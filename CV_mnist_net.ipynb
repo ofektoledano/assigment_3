{
 "nbformat": 4,
 "nbformat_minor": 0,
 "metadata": {
  "kernelspec": {
   "display_name": "Python 3",
   "language": "python",
   "name": "python3"
  },
  "language_info": {
   "codemirror_mode": {
    "name": "ipython",
    "version": 3
   },
   "file_extension": ".py",
   "mimetype": "text/x-python",
   "name": "python",
   "nbconvert_exporter": "python",
   "pygments_lexer": "ipython3",
   "version": "3.7.0"
  },
  "colab": {
   "name": "CV_mnist_net.ipynb",
   "provenance": [],
   "collapsed_sections": []
  }
 },
 "cells": [
  {
   "cell_type": "markdown",
   "metadata": {
    "id": "Gbl4asdQIFCc",
    "colab_type": "text"
   },
   "source": [
    "# MNIST Digits Classification using Neural Networks\n",
    "\n"
   ]
  },
  {
   "cell_type": "markdown",
   "metadata": {
    "colab_type": "text",
    "id": "Ykpbn7glGgMn"
   },
   "source": [
    "Mount your drive in order to run locally with colab"
   ]
  },
  {
   "cell_type": "code",
   "metadata": {
    "id": "IpNBHS0MTggD",
    "colab_type": "code",
    "colab": {}
   },
   "source": [
    "# from google.colab import drive\n",
    "# drive.mount('/content/gdrive')"
   ],
   "execution_count": 79,
   "outputs": []
  },
  {
   "cell_type": "markdown",
   "metadata": {
    "id": "qg89LL10TfQw",
    "colab_type": "text"
   },
   "source": [
    "download & load the MNIST dataset.\n",
    "\n",
    "*just run the next two cells and observe the outputs (shift&enter) "
   ]
  },
  {
   "cell_type": "code",
   "metadata": {
    "colab_type": "code",
    "id": "0oFFceCNGgMo",
    "colab": {}
   },
   "source": [
    "\n",
    "#importing modules that will be in use\n",
    "%matplotlib inline\n",
    "import os\n",
    "import numpy as np\n",
    "import matplotlib.pyplot as plt\n",
    "import urllib.request\n",
    "import gzip\n",
    "import pickle\n",
    "from PIL import Image\n",
    "import random\n",
    "import numpy as np\n",
    "\n",
    "def _download(file_name):\n",
    "    file_path = os.path.join(dataset_dir,file_name)\n",
    "\n",
    "    if os.path.exists(file_path):\n",
    "        return\n",
    "\n",
    "    print(\"Downloading \" + file_name + \" ... \")\n",
    "    urllib.request.urlretrieve(url_base + file_name, file_name)\n",
    "    print(\"Done\")\n",
    "\n",
    "def download_mnist():\n",
    "    for v in key_file.values():\n",
    "       _download(v)\n",
    "\n",
    "def _load_label(file_name):\n",
    "    file_path =  os.path.join(dataset_dir, file_name)\n",
    "\n",
    "    print(\"Converting \" + file_name + \" to NumPy Array ...\")\n",
    "    with gzip.open(file_path, 'rb') as f:\n",
    "            labels = np.frombuffer(f.read(), np.uint8, offset=8)\n",
    "    print(\"Done\")\n",
    "\n",
    "    return labels\n",
    "\n",
    "def _load_img(file_name):\n",
    "    file_path = os.path.join(dataset_dir,file_name)\n",
    "\n",
    "    print(\"Converting \" + file_name + \" to NumPy Array ...\")\n",
    "    with gzip.open(file_path, 'rb') as f:\n",
    "            data = np.frombuffer(f.read(), np.uint8, offset=16)\n",
    "    data = data.reshape(-1, img_size)\n",
    "    print(\"Done\")\n",
    "\n",
    "    return data\n",
    "\n",
    "def _convert_numpy():\n",
    "    dataset = {}\n",
    "    dataset['train_img'] =  _load_img(key_file['train_img'])\n",
    "    dataset['train_label'] = _load_label(key_file['train_label'])\n",
    "    dataset['test_img'] = _load_img(key_file['test_img'])\n",
    "    dataset['test_label'] = _load_label(key_file['test_label'])\n",
    "\n",
    "    return dataset\n",
    "\n",
    "def init_mnist():\n",
    "    download_mnist()\n",
    "    dataset = _convert_numpy()\n",
    "    print(\"Creating pickle file ...\")\n",
    "    with open(save_file, 'wb') as f:\n",
    "        pickle.dump(dataset, f, -1)\n",
    "    print(\"Done\")\n",
    "\n",
    "def _change_one_hot_label(X):\n",
    "    T = np.zeros((X.size, 10))\n",
    "    for idx, row in enumerate(T):\n",
    "        row[X[idx]] = 1\n",
    "\n",
    "    return T\n",
    "\n",
    "def load_mnist(normalize=True, flatten=True, one_hot_label=False):\n",
    "    \"\"\"\n",
    "    Parameters\n",
    "    ----------\n",
    "    normalize : Normalize the pixel values\n",
    "    flatten : Flatten the images as one array\n",
    "    one_hot_label : Encode the labels as a one-hot array\n",
    "\n",
    "    Returns\n",
    "    -------\n",
    "    (Trainig Image, Training Label), (Test Image, Test Label)\n",
    "    \"\"\"\n",
    "    if not os.path.exists(save_file):\n",
    "        init_mnist()\n",
    "\n",
    "    with open(save_file, 'rb') as f:\n",
    "        dataset = pickle.load(f)\n",
    "\n",
    "    if normalize:\n",
    "        for key in ('train_img', 'test_img'):\n",
    "            dataset[key] = dataset[key].astype(np.float32)\n",
    "            dataset[key] /= 255.0\n",
    "\n",
    "    if not flatten:\n",
    "         for key in ('train_img', 'test_img'):\n",
    "            dataset[key] = dataset[key].reshape(-1, 1, 28, 28)\n",
    "\n",
    "    if one_hot_label:\n",
    "        dataset['train_label'] = _change_one_hot_label(dataset['train_label'])\n",
    "        dataset['test_label'] = _change_one_hot_label(dataset['test_label'])\n",
    "\n",
    "    return (dataset['train_img'], dataset['train_label']), (dataset['test_img'], dataset['test_label'])\n",
    "\n",
    "\n",
    "# Load the MNIST dataset\n",
    "url_base = 'http://yann.lecun.com/exdb/mnist/'\n",
    "key_file = {\n",
    "    'train_img':'train-images-idx3-ubyte.gz',\n",
    "    'train_label':'train-labels-idx1-ubyte.gz',\n",
    "    'test_img':'t10k-images-idx3-ubyte.gz',\n",
    "    'test_label':'t10k-labels-idx1-ubyte.gz'\n",
    "}\n",
    "\n",
    "dataset_dir = ''\n",
    "save_file = dataset_dir + \"/mnist.pkl\"\n",
    "\n",
    "train_num = 60000\n",
    "test_num = 10000\n",
    "img_dim = (1, 28, 28)\n",
    "img_size = 784\n",
    "\n",
    "(x_train, t_train), (x_test, t_test) = load_mnist(normalize=True, flatten=True)\n",
    "\n",
    "\n",
    "# printing data shape\n",
    "\n",
    "print('the training data set contains '+ str(x_train.shape[0]) + ' samples')\n",
    "\n",
    "img = x_train[0]\n",
    "label = t_train[0]\n",
    "\n",
    "img = img.reshape(28, 28)\n",
    "print('each sample image from the training data set is a column-stacked grayscale image of '+ str(x_train.shape[1]) +' pixels'\n",
    "      + '\\n this vectorized arrangement of the data is suitable for a Fully-Connected NN (as apposed to a Convolutional NN)' )\n",
    "print('these column-stacked images can be reshaped to an image of ' +str(img.shape)+ ' pixels')\n",
    "\n",
    "# printing a sample from the dataset\n",
    "\n",
    "plt.imshow(img, cmap='gray')\n",
    "plt.axis('off')\n",
    "plt.title('The ground truth label of this image is '+str(label))\n",
    "plt.show()"
   ],
   "execution_count": 80,
   "outputs": [
    {
     "name": "stdout",
     "output_type": "stream",
     "text": [
      "the training data set contains 60000 samples\n",
      "each sample image from the training data set is a column-stacked grayscale image of 784 pixels\n",
      " this vectorized arrangement of the data is suitable for a Fully-Connected NN (as apposed to a Convolutional NN)\n",
      "these column-stacked images can be reshaped to an image of (28, 28) pixels\n"
     ]
    },
    {
     "data": {
      "text/plain": "<Figure size 432x288 with 1 Axes>",
      "image/png": "[encoded data removed]"
     },
     "metadata": {
      "needs_background": "light"
     },
     "output_type": "display_data"
    }
   ]
  },
  {
   "cell_type": "code",
   "metadata": {
    "id": "Q8h43VmTIFCo",
    "colab_type": "code",
    "colab": {}
   },
   "source": [
    "# Visualize some examples from the dataset.\n",
    "# We'll show a few examples of training images from each class.\n",
    "num_classes = 10\n",
    "samples_per_class = 7\n",
    "for cls in range(num_classes):\n",
    "    idxs = np.argwhere(t_train==cls)\n",
    "    sample = np.random.choice(idxs.shape[0], samples_per_class, replace=False) # randomly picks 7 from the appearences \n",
    "    idxs=idxs[sample]\n",
    "\n",
    "    for i, idx in enumerate(idxs):\n",
    "        plt_idx = i * num_classes + cls + 1\n",
    "        plt.subplot(samples_per_class, num_classes, plt_idx)\n",
    "        img = x_train[idx].reshape(28, 28)\n",
    "\n",
    "        plt.imshow(img, cmap='gray')\n",
    "        plt.axis('off')\n",
    "        if i == 0:\n",
    "            plt.title(cls)\n",
    "plt.show()"
   ],
   "execution_count": 81,
   "outputs": [
    {
     "data": {
      "text/plain": "<Figure size 432x288 with 70 Axes>",
      "image/png": "[encoded data removed]"
     },
     "metadata": {
      "needs_background": "light"
     },
     "output_type": "display_data"
    }
   ]
  },
  {
   "cell_type": "markdown",
   "metadata": {
    "id": "R3y5IDyqIFCr",
    "colab_type": "text"
   },
   "source": [
    "**QUESTION 1**:What are vanishing gradients? Name one known activation function that has this problem and one that does not.\n",
    "\n",
    "**ANSWER**:\n",
    "vanishing gradients are a problem of when the partial derivitives of backpropogation are so small compared to the weights that they stop effecting the weights thus stopping the network from training\n",
    "An example of an activation function that has this problem is the sigmoid function where the gradients decrease exponentially between layers.\n",
    "An example of an activation function that does not have this problem is Growing Cosine Unit (GCU)."
   ]
  },
  {
   "cell_type": "markdown",
   "metadata": {
    "id": "dFMPV9CxIFCs",
    "colab_type": "text"
   },
   "source": [
    "here we will implement the sigmoid activation function and it's gradient "
   ]
  },
  {
   "cell_type": "code",
   "metadata": {
    "id": "1IP_aR9bIFCt",
    "colab_type": "code",
    "colab": {}
   },
   "source": [
    "def sigmoid(x):\n",
    "    #############################################################################\n",
    "    #                             YOUR CODE                                     #\n",
    "    #############################################################################\n",
    "    sig = 1 / (1 + np.exp(-x))\n",
    "\n",
    "    ############################################################################\n",
    "    #                             END OF YOUR CODE                             #\n",
    "    ############################################################################\n",
    "    return sig\n",
    "\n",
    "def sigmoid_grad(x):\n",
    "    #############################################################################\n",
    "    #                             YOUR CODE                                     #\n",
    "    #############################################################################\n",
    "    sig_grad = sigmoid(x) * (1 - sigmoid(x))\n",
    "\n",
    "    ############################################################################\n",
    "    #                             END OF YOUR CODE                             #\n",
    "    ############################################################################\n",
    "    return sig_grad\n"
   ],
   "execution_count": 82,
   "outputs": []
  },
  {
   "cell_type": "markdown",
   "metadata": {
    "id": "nVYLu-cOIFCx",
    "colab_type": "text"
   },
   "source": [
    "Implement a fully-vectorized loss function for the Softmax classifier\n",
    "Make sure the softmax is stable.\n",
    "To make our softmax function numerically stable,we simply normalize the values in the vector, \n",
    "by multiplying the numerator and denominator with a constant C.\n",
    "We can choose an arbitrary value for log(C) term, but generally log(C)=−max(a) is chosen, as it shifts all of elements in the vector to negative to zero, and negatives with large exponents saturate to zero rather than the infinity."
   ]
  },
  {
   "cell_type": "code",
   "metadata": {
    "id": "Mp4q0S7yIFCy",
    "colab_type": "code",
    "colab": {}
   },
   "source": [
    "def softmax(x):\n",
    "    \"\"\"\n",
    "  Softmax loss function, should be implemented in a vectorized fashion (without loops)\n",
    "\n",
    "\n",
    "  Inputs:\n",
    "  - X: A numpy array of shape (N, C) containing a minibatch of data.\n",
    "  Returns:\n",
    "  - probabilities: A numpy array of shape (N, C) containing the softmax probabilities.\n",
    "\n",
    "  if you are not careful here, it is easy to run into numeric instability\n",
    "     \"\"\"\n",
    "    #############################################################################\n",
    "    #                             YOUR CODE                                     #\n",
    "    #############################################################################\n",
    "\n",
    "    e_x = np.exp(x.T - np.max(x, axis=1)).T\n",
    "    probabilities = e_x / np.tile(np.sum(e_x, axis=1),(10,1)).T\n",
    "    ############################################################################\n",
    "    #                             END OF YOUR CODE                             #\n",
    "    ############################################################################\n",
    "    return probabilities\n",
    "\n",
    "def cross_entropy_error(y, t):\n",
    "    \"\"\"\n",
    "    Inputs:\n",
    "\n",
    "    - t:  A numpy array of shape (N,C) containing  a minibatch of training labels, it is a one-hot array,\n",
    "      with t[GT]=1 and t=0 elsewhere, where GT is the ground truth label ;\n",
    "    - y: A numpy array of shape (N, C) containing the softmax probabilities (the NN's output).\n",
    "\n",
    "    Returns a tuple of:\n",
    "    - loss as single float (do not forget to divide by the number of samples in the minibatch (N))\n",
    "    \"\"\"\n",
    "    #############################################################################\n",
    "    #                             YOUR CODE                                     #\n",
    "    #############################################################################\n",
    "\n",
    "    error = -np.log(np.mean(y[t.astype(bool)]))\n",
    "\n",
    "    ############################################################################\n",
    "    #                             END OF YOUR CODE                             #\n",
    "    ############################################################################\n",
    "    return error"
   ],
   "execution_count": 83,
   "outputs": []
  },
  {
   "cell_type": "markdown",
   "metadata": {
    "id": "RCu1s4BLIFC1",
    "colab_type": "text"
   },
   "source": [
    "We will design and train a two-layer fully-connected neural network with sigmoid nonlinearity and\n",
    "softmax cross entropy loss. We assume an input dimension of D=784, a hidden dimension of H, and perform classification over C classes.\n",
    "\n",
    "The architecture should be fullyconnected -> sigmoid -> fullyconnected -> softmax.\n",
    "\n",
    "The learnable parameters of the model are stored in the dictionary,\n",
    "'params', that maps parameter names to numpy arrays.\n",
    "\n",
    "In the next cell we will initialize the weights and biases, design the fully connected(fc) forward and backward functions that will be in use for the training (using SGD).\n",
    "\n"
   ]
  },
  {
   "cell_type": "code",
   "metadata": {
    "id": "BOs-KahYIFC2",
    "colab_type": "code",
    "colab": {}
   },
   "source": [
    "def TwoLayerNet(input_size, hidden_size, output_size, weight_init_std=0.01):\n",
    "    ############################################################################\n",
    "    # TODO: Initialize the weights and biases of the two-layer net. Weights    #\n",
    "    # should be initialized from a Gaussian with standard deviation equal to   #\n",
    "    # weight_init_std, and biases should be initialized to zero. All weights and  #\n",
    "    # biases should be stored in the dictionary 'params', with first layer  #\n",
    "    # weights and biases using the keys 'W1' and 'b1' and second layer weights #\n",
    "    # and biases using the keys 'W2' and 'b2'.                                 #\n",
    "    ############################################################################\n",
    "    params = {\"W1\": np.random.normal(loc=0, scale=weight_init_std, size=(input_size,hidden_size)),\n",
    "              \"b1\": np.zeros(hidden_size),\n",
    "              \"W2\": np.random.normal(loc=0, scale=weight_init_std, size=(hidden_size,output_size) ),\n",
    "              \"b2\": np.zeros(output_size)}\n",
    "    ############################################################################\n",
    "    #                             END OF YOUR CODE                             #\n",
    "    ############################################################################\n",
    "    return params\n",
    "\n",
    "\n",
    "def FC_forward(x, w, b):\n",
    "    \"\"\"\n",
    "    Computes the forward pass for a fully-connected layer.\n",
    "    The input x has shape (N, D) and contains a minibatch of N\n",
    "    examples, where each example x[i] has shape D and will be transformed to an output vector of dimension M.\n",
    "    Inputs:\n",
    "    - x: A numpy array containing input data, of shape (N, D)\n",
    "    - w: A numpy array of weights, of shape (D, M)\n",
    "    - b: A numpy array of biases, of shape (M,)\n",
    "\n",
    "    Returns a tuple of:\n",
    "    - out: output result of the forward pass, of shape (N, M)\n",
    "    - cache: (x, w, b)\n",
    "    \"\"\"\n",
    "    #############################################################################\n",
    "    #                             YOUR CODE                                     #\n",
    "    #############################################################################\n",
    "    out = np.matmul(x, w) + b\n",
    "    #############################################################################\n",
    "    #                             END OF YOUR CODE                              #\n",
    "    #############################################################################\n",
    "    cache = (x, w, b)\n",
    "    return out, cache\n",
    "\n",
    "\n",
    "def FC_backward(dout, cache):\n",
    "    \"\"\"\n",
    "    Computes the backward pass for a fully-connected layer.\n",
    "    Inputs:\n",
    "    - dout: Upstream derivative, of shape (N, M)\n",
    "    - cache: Tuple of:\n",
    "    - w: Weights, of shape (D, M)\n",
    "    Returns a tuple of:\n",
    "    - dx: Gradient with respect to x, of shape (N, D)\n",
    "    - dw: Gradient with respect to w, of shape (D, M)\n",
    "    - db: Gradient with respect to b, of shape (M,)\n",
    "    \"\"\"\n",
    "    x, w, b = cache\n",
    "    #############################################################################\n",
    "    #                             YOUR CODE                                     #\n",
    "    #############################################################################\n",
    "    dw = np.matmul(x.T, dout)\n",
    "    dx = np.matmul(dout, w.T)\n",
    "    db = np.sum(dout, axis=0)\n",
    "\n",
    "    #############################################################################\n",
    "    #                             END OF YOUR CODE                              #\n",
    "    #############################################################################\n",
    "    return dx, dw, db"
   ],
   "execution_count": 84,
   "outputs": []
  },
  {
   "cell_type": "markdown",
   "metadata": {
    "id": "Ttgcf5YeIFC5",
    "colab_type": "text"
   },
   "source": [
    "Here we will design the entire model, which outputs the NN's probabilities and gradients.\n"
   ]
  },
  {
   "cell_type": "code",
   "metadata": {
    "id": "07syYZaYIFC6",
    "colab_type": "code",
    "colab": {}
   },
   "source": [
    "def Model(params, x, t):\n",
    "    \"\"\"\n",
    "    Computes the backward pass for a fully-connected layer.\n",
    "    Inputs:\n",
    "    - params:  dictionary with first layer weights and biases using the keys 'W1' and 'b1' and second layer weights\n",
    "    and biases using the keys 'W2' and 'b2'. each with dimensions corresponding its input and output dimensions.\n",
    "    - x: Input data, of shape (N,D)\n",
    "    - t:  A numpy array of shape (N,C) containing training labels, it is a one-hot array,\n",
    "      with t[GT]=1 and t=0 elsewhere, where GT is the ground truth label ;\n",
    "    Returns:\n",
    "    - y: the output probabilities for the minibatch (at the end of the forward pass) of shape (N,C)\n",
    "    - grads: dictionary containing gradients of the loss with respect to W1, W2, b1, b2.\n",
    "\n",
    "    note: use the FC_forward ,FC_backward functions.\n",
    "\n",
    "    \"\"\"\n",
    "    W1, W2 = params['W1'], params['W2']\n",
    "    b1, b2 = params['b1'], params['b2']\n",
    "    # batch_num = x.shape[0]\n",
    "\n",
    "    #############################################################################\n",
    "    #                             YOUR CODE                                     #\n",
    "    #############################################################################\n",
    "    # forward (fullyconnected -> sigmoid -> fullyconnected -> softmax).\n",
    "\n",
    "    # took some denotations from \"Computing Neural Network Gradients\" by Kevin Clark\n",
    "    z, cache1 = FC_forward(x, W1, b1)\n",
    "    h = sigmoid(z)\n",
    "    teta, cache2 = FC_forward(h, W2, b2)\n",
    "    y = softmax(teta)\n",
    "\n",
    "    # backward - calculate gradients.\n",
    "    # J is cost function\n",
    "    djy = (y-t)\n",
    "    djdteta = djy*y*(1-y)\n",
    "    djdh, djdw2, djdb2 = FC_backward(djdteta, cache2)\n",
    "    djdz = np.multiply(djdh,sigmoid_grad(z))\n",
    "    djdx, djdw1, djdb1 = FC_backward(djdz, cache1)\n",
    "    grads = {'W1': djdw1 ,'W2': djdw2, 'b1': djdb1 ,'b2': djdb2 }\n",
    "\n",
    "    #############################################################################\n",
    "    #                             END OF YOUR CODE                              #\n",
    "    #############################################################################\n",
    "\n",
    "    return grads, y"
   ],
   "execution_count": 85,
   "outputs": []
  },
  {
   "cell_type": "markdown",
   "metadata": {
    "id": "YPDLXpWcIFC9",
    "colab_type": "text"
   },
   "source": [
    "Compute the accuracy of the NNs predictions.\n"
   ]
  },
  {
   "cell_type": "code",
   "metadata": {
    "id": "AS-mv6s3IFC9",
    "colab_type": "code",
    "colab": {}
   },
   "source": [
    "def accuracy(y, t):\n",
    "    \"\"\"\n",
    "    Computes the accuracy of the NN's predictions.\n",
    "    Inputs:\n",
    "    - t:  A numpy array of shape (N,C) containing training labels, it is a one-hot array,\n",
    "      with t[GT]=1 and t=0 elsewhere, where GT is the ground truth label ;\n",
    "    - y: the output probabilities for the minibatch (at the end of the forward pass) of shape (N,C)\n",
    "    Returns:\n",
    "    - accuracy: a single float of the average accuracy.\n",
    "    \"\"\"\n",
    "    #############################################################################\n",
    "    #                             YOUR CODE                                     #\n",
    "    #############################################################################\n",
    "    z = np.mean(np.equal(np.argmax(y,axis = 1) , np.argmax(t,axis=1))) * 100\n",
    "\n",
    "    #############################################################################\n",
    "    #                             END OF YOUR CODE                              #\n",
    "    #############################################################################\n",
    "    return z"
   ],
   "execution_count": 86,
   "outputs": []
  },
  {
   "cell_type": "markdown",
   "metadata": {
    "id": "nwJJtrHoIFDB",
    "colab_type": "text"
   },
   "source": [
    "Trianing the model:\n",
    "To train our network we will use minibatch SGD.  \n",
    "*Note that the test dataset is actually used as the validation dataset in the training"
   ]
  },
  {
   "cell_type": "code",
   "metadata": {
    "id": "B4Fvu0jfIFDC",
    "colab_type": "code",
    "colab": {}
   },
   "source": [
    "# You should be able to receive at least 97% accuracy, choose hyperparameters accordingly.\n",
    "\n",
    "epochs =13\n",
    "mini_batch_size =40\n",
    "learning_rate = 0.06\n",
    "num_hidden_cells =100\n",
    "\n",
    "\n",
    "def Train(epochs_num, batch_size, lr, H):\n",
    "    #  Dividing a dataset into training data and test data\n",
    "\n",
    "    (x_train, t_train), (x_test, t_test) = load_mnist(normalize=True, one_hot_label=True)\n",
    "    C = 10\n",
    "    D = x_train.shape[1]\n",
    "    network_params = TwoLayerNet(input_size=D, hidden_size=H,\n",
    "                                 output_size=C)  # hidden_size is the only hyperparameter here\n",
    "\n",
    "    train_size = x_train.shape[0]\n",
    "    train_loss_list = []\n",
    "    train_acc_list = []\n",
    "    test_acc_list = []\n",
    "    iter_per_epoch = round(train_size / batch_size)\n",
    "\n",
    "    print('training of ' + str(epochs_num) + ' epochs, each epoch will have ' + str(iter_per_epoch) + ' iterations')\n",
    "    for i in range(epochs_num):\n",
    "\n",
    "        train_loss_iter = []\n",
    "        train_acc_iter = []\n",
    "\n",
    "        for k in range(iter_per_epoch):\n",
    "\n",
    "            #############################################################################\n",
    "            #                             YOUR CODE                                     #\n",
    "            #############################################################################\n",
    "            # 1. Select part of training data (mini-batch) randomly\n",
    "\n",
    "            shuffle = random.sample(range(x_train.shape[0]), mini_batch_size)\n",
    "            minibatch = x_train[shuffle, :]\n",
    "            t_batch = t_train[shuffle, :]\n",
    "            # 2. Calculate the predictions and the gradients to reduce the value of the loss function\n",
    "            grads, y_batch = Model(network_params, minibatch, t_batch)\n",
    "            # 3. Update weights and biases with the gradients\n",
    "            network_params[\"W1\"] = network_params[\"W1\"] - lr * grads[\"W1\"]\n",
    "            network_params[\"W2\"] = network_params[\"W2\"] - lr * grads[\"W2\"]\n",
    "            network_params[\"b1\"] = network_params[\"b1\"] - lr * grads[\"b1\"]\n",
    "            network_params[\"b2\"] = network_params[\"b2\"] - lr * grads[\"b2\"]\n",
    "            #############################################################################\n",
    "            #                             END OF YOUR CODE                              #\n",
    "            #############################################################################\n",
    "\n",
    "            # Calculate the loss and accuracy for visalizaton\n",
    "\n",
    "            error = cross_entropy_error(y_batch, t_batch)\n",
    "            train_loss_iter.append(error)\n",
    "            acc_iter = accuracy(y_batch, t_batch)\n",
    "            train_acc_iter.append(acc_iter)\n",
    "            if k == iter_per_epoch - 1:\n",
    "                train_acc = np.mean(train_acc_iter)\n",
    "                train_acc_list.append(train_acc)\n",
    "                train_loss_list.append(np.mean(train_loss_iter))\n",
    "\n",
    "                _, y_test = Model(network_params, x_test, t_test)\n",
    "                test_acc = accuracy(y_test, t_test)\n",
    "                test_acc_list.append(test_acc)\n",
    "                print(\"train acc: \" + str(train_acc)[:5] + \"% |  test acc: \" + str(\n",
    "                    test_acc) + \"% |  loss for epoch \" + str(i) + \": \" + str(np.mean(train_loss_iter)))\n",
    "    return train_acc_list, test_acc_list, train_loss_list, network_params\n",
    "\n",
    "train_acc, test_acc, train_loss, net_params = Train(epochs, mini_batch_size, learning_rate, num_hidden_cells)\n",
    "\n",
    "markers = {'train': 'o', 'test': 's'}\n",
    "x = np.arange(len(train_acc))\n",
    "plt.plot(x, train_acc, label='train acc')\n",
    "plt.plot(x, test_acc, label='test acc', linestyle='--')\n",
    "plt.xlabel(\"epochs\")\n",
    "plt.ylabel(\"accuracy\")\n",
    "plt.legend(loc='lower right')\n",
    "plt.show()\n",
    "\n",
    "\n",
    "markers = {'train': 'o'}\n",
    "x = np.arange(len(train_loss))\n",
    "plt.plot(x, train_loss, label='train loss')\n",
    "plt.xlabel(\"epochs\")\n",
    "plt.ylabel(\"Loss\")\n",
    "plt.legend(loc='lower right')\n",
    "plt.show()"
   ],
   "execution_count": 87,
   "outputs": [
    {
     "name": "stdout",
     "output_type": "stream",
     "text": [
      "training of 13 epochs, each epoch will have 1500 iterations\n",
      "train acc: 81.50% |  test acc: 92.34% |  loss for epoch 0: 0.4066876851254466\n",
      "train acc: 93.54% |  test acc: 94.13% |  loss for epoch 1: 0.12661080068900085\n",
      "train acc: 94.91% |  test acc: 95.28999999999999% |  loss for epoch 2: 0.10209337623593401\n",
      "train acc: 95.98% |  test acc: 95.84% |  loss for epoch 3: 0.08341620287993788\n",
      "train acc: 96.57% |  test acc: 96.31% |  loss for epoch 4: 0.07288398530180473\n",
      "train acc: 97.03% |  test acc: 96.5% |  loss for epoch 5: 0.06434924461900497\n",
      "train acc: 97.28% |  test acc: 96.67% |  loss for epoch 6: 0.06039147927140085\n",
      "train acc: 97.59% |  test acc: 96.57% |  loss for epoch 7: 0.05448216288649271\n",
      "train acc: 97.76% |  test acc: 96.78% |  loss for epoch 8: 0.05054676051188908\n",
      "train acc: 98.02% |  test acc: 97.13000000000001% |  loss for epoch 9: 0.04648601132798501\n",
      "train acc: 98.04% |  test acc: 97.15% |  loss for epoch 10: 0.045125922375798\n",
      "train acc: 98.23% |  test acc: 96.96000000000001% |  loss for epoch 11: 0.04232508796614736\n",
      "train acc: 98.39% |  test acc: 97.04% |  loss for epoch 12: 0.040258480746461565\n"
     ]
    },
    {
     "data": {
      "text/plain": "<Figure size 432x288 with 1 Axes>",
      "image/png": "[encoded data removed]"
     },
     "metadata": {
      "needs_background": "light"
     },
     "output_type": "display_data"
    },
    {
     "data": {
      "text/plain": "<Figure size 432x288 with 1 Axes>",
      "image/png": "[encoded data removed]"
     },
     "metadata": {
      "needs_background": "light"
     },
     "output_type": "display_data"
    }
   ]
  },
  {
   "cell_type": "markdown",
   "metadata": {
    "id": "5E2I2GpOIFDH",
    "colab_type": "text"
   },
   "source": [
    "# You should be able to receive at least 97% accuracy, choose hyperparameters accordingly.\n"
   ]
  },
  {
   "cell_type": "markdown",
   "source": [
    "**QUESTION 2:** Explain the results looking at the visualizations above, base your answer on the hyperparameters.\n",
    "\n",
    "**ANSWER:**\n",
    "We can see a very large increase in accuracy and large decreace in loss function on the first epoch because we are entering a local minimum ,comparing to the random weighs and zero bias we started with a single linear decent iteration would have much better performance.\n",
    "After the first epoch we see a slow increase in training accuracy in the pursuit of a minimum loss with the backprop within this local minimum. we also see fluctuating increase in test accuracy due to lack of correlation between the sets.\n",
    "the gradient of this accuracy increase is  dependent on the learning rate (as is the first epoch increase), theoretically we can improve the gradient of the increace with a higher learning rate but if we use too high of a learning rate we might miss the local minimum we aspire to.\n",
    "\n"
   ],
   "metadata": {
    "collapsed": false
   }
  },
  {
   "cell_type": "markdown",
   "metadata": {
    "id": "c62bjGf8IFDK",
    "colab_type": "text"
   },
   "source": [
    "**QUESTION** 3: Suggest a way to improve the results by changing the networks's architecture  \n",
    "\n",
    "**ANSWER**:\n",
    "I would suggest adding more layers to the network to improve the results because this network only has one hidden layer. adding to many layers will increase the chance of over-fit, so we can add a single hidden layer to help differentiate more subtle features between digits.\n",
    "we can also transfer the pixel space input to feature space input with CNN.\n",
    "\n"
   ]
  },
  {
   "cell_type": "code",
   "metadata": {
    "id": "BvstDmGeIFDL",
    "colab_type": "code",
    "colab": {}
   },
   "source": [
    "# Visualize some weights. features of digits should be somehow present.\n",
    "def show_net_weights(params):\n",
    "    W1 = params['W1']\n",
    "    print(W1.shape)\n",
    "    for i in range(5):\n",
    "        W = W1[:,i*5].reshape(28, 28)\n",
    "        plt.imshow(W,cmap='gray')\n",
    "        plt.axis('off')\n",
    "        plt.show()\n",
    "\n",
    "show_net_weights(net_params)\n"
   ],
   "execution_count": 88,
   "outputs": [
    {
     "name": "stdout",
     "output_type": "stream",
     "text": [
      "(784, 100)\n"
     ]
    },
    {
     "data": {
      "text/plain": "<Figure size 432x288 with 1 Axes>",
      "image/png": "[encoded data removed]"
     },
     "metadata": {
      "needs_background": "light"
     },
     "output_type": "display_data"
    },
    {
     "data": {
      "text/plain": "<Figure size 432x288 with 1 Axes>",
      "image/png": "[encoded data removed]"
     },
     "metadata": {
      "needs_background": "light"
     },
     "output_type": "display_data"
    },
    {
     "data": {
      "text/plain": "<Figure size 432x288 with 1 Axes>",
      "image/png": "[encoded data removed]"
     },
     "metadata": {
      "needs_background": "light"
     },
     "output_type": "display_data"
    },
    {
     "data": {
      "text/plain": "<Figure size 432x288 with 1 Axes>",
      "image/png": "[encoded data removed]"
     },
     "metadata": {
      "needs_background": "light"
     },
     "output_type": "display_data"
    },
    {
     "data": {
      "text/plain": "<Figure size 432x288 with 1 Axes>",
      "image/png": "[encoded data removed]"
     },
     "metadata": {
      "needs_background": "light"
     },
     "output_type": "display_data"
    }
   ]
  },
  {
   "cell_type": "markdown",
   "metadata": {
    "id": "LWE9-3qSOzBJ",
    "colab_type": "text"
   },
   "source": [
    "Implement, train and test the same two-layer network, using a **deep learning library** (pytorch/tensorflow/keras).\n",
    "\n",
    "As before, you should be able to receive at least 97% accuracy.\n",
    "\n",
    "Please note, that in this section you will need to implement the model, the training and the testing by yourself (you may use the code in earlier sections)\n",
    "Don't forget to print the accuracy during training (in the same format as before).\n",
    "\n",
    "For installing a deep learning library, you should use \"!pip3 install...\" (lookup the compatible syntex for your library)"
   ]
  },
  {
   "cell_type": "code",
   "metadata": {
    "id": "UU5fdOGFNcMO",
    "colab_type": "code",
    "colab": {}
   },
   "source": [
    " #############################################################################\n",
    "import torch\n",
    "import torch.nn as nn\n",
    "import torch.nn.functional as F\n",
    "from torch.utils.data import TensorDataset\n",
    "import numpy as np\n",
    "\n",
    "class MyNet(nn.Module):\n",
    "    def __init__(self):\n",
    "      super(MyNet, self).__init__()\n",
    "      self.fc1 = nn.Linear(784, num_hidden_cells)\n",
    "      self.fc2 = nn.Linear(num_hidden_cells, 10)\n",
    "\n",
    "    # x represents our data\n",
    "    def forward(self, x):\n",
    "      # Pass data through fc1 & fc2\n",
    "      x = self.fc1(x)\n",
    "      x = F.relu(x)\n",
    "      out = self.fc2(x)\n",
    "\n",
    "      return out\n",
    "\n",
    "\n",
    "\n",
    "\n",
    "def Train(epochs_num, batch_size):\n",
    "    #  Dividing a dataset into training data and test data\n",
    "    device = torch.device(\"cuda:0\" if torch.cuda.is_available() else \"cpu\")\n",
    "\n",
    "    (x_train, t_train), (x_test, t_test) = load_mnist(normalize=True, one_hot_label=True)\n",
    "    tensor_xtrain = torch.Tensor(x_train)\n",
    "    tensor_ttrain = torch.Tensor(t_train)\n",
    "    tensor_xtest = torch.Tensor(x_test)\n",
    "    tensor_ttest = torch.Tensor(t_test)\n",
    "\n",
    "    train_dataset = TensorDataset(tensor_xtrain,tensor_ttrain)\n",
    "    test_dataset = TensorDataset(tensor_xtest,tensor_ttest)\n",
    "\n",
    "    training_loader = torch.utils.data.DataLoader(train_dataset, batch_size=mini_batch_size, shuffle=True)\n",
    "    test_loader = torch.utils.data.DataLoader(test_dataset, batch_size=x_test.shape[0], shuffle=False)\n",
    "    model = MyNet().to(device)\n",
    "    loss_fn = torch.nn.CrossEntropyLoss().to(device)\n",
    "    optimizer = torch.optim.SGD(model.parameters(), lr=learning_rate,momentum=0)\n",
    "\n",
    "    train_size = x_train.shape[0]\n",
    "    train_loss_list = []\n",
    "    train_acc_list = []\n",
    "    test_acc_list = []\n",
    "    iter_per_epoch = round(train_size / batch_size)\n",
    "\n",
    "    print('training of ' + str(epochs_num) + ' epochs, each epoch will have ' + str(iter_per_epoch) + ' iterations')\n",
    "    for i in range(epochs_num):\n",
    "\n",
    "        train_loss_iter = []\n",
    "        train_acc_iter = []\n",
    "        for k, data in enumerate(training_loader):\n",
    "            model.train()\n",
    "            # Every data instance is an input + label pair\n",
    "            inputs, labels = data\n",
    "            inputs, labels = inputs.to(device), labels.to(device)\n",
    "            # Zero your gradients for every batch!\n",
    "            optimizer.zero_grad()\n",
    "\n",
    "            # Make predictions for this batch\n",
    "            outputs = model(inputs)\n",
    "\n",
    "            # Compute the loss and its gradients\n",
    "            loss = loss_fn(outputs, labels)\n",
    "            loss.backward()\n",
    "            # Adjust learning weights\n",
    "            optimizer.step()\n",
    "            correct_labeled_samples = (outputs.argmax(1) == labels.argmax(1)).type(torch.float).sum().item()\n",
    "\n",
    "            acc_iter = 100 * (correct_labeled_samples / training_loader.batch_size)\n",
    "            error = loss.item()\n",
    "            train_loss_iter.append(error)\n",
    "            train_acc_iter.append(acc_iter)\n",
    "            if k == iter_per_epoch - 1:\n",
    "                with torch.no_grad():\n",
    "                    model.eval()\n",
    "                    train_acc = np.mean(train_acc_iter)\n",
    "                    train_acc_list.append(train_acc)\n",
    "                    train_loss_list.append(np.mean(train_loss_iter))\n",
    "                    for i_test, data_test in enumerate(test_loader):\n",
    "                        input_test , label_test = data_test\n",
    "                        input_test, label_test = input_test.to(device) , label_test.to(device)\n",
    "                        y_test = model(input_test)\n",
    "\n",
    "                    correct_labeled_samples = (y_test.argmax(1) == label_test.argmax(1)).type(torch.float).sum().item()\n",
    "                    test_acc = 100 * (correct_labeled_samples / test_loader.batch_size)\n",
    "\n",
    "                    test_acc_list.append(test_acc)\n",
    "                    print(\"train acc: \" + str(train_acc)[:5] + \"% |  test acc: \" + str(\n",
    "                        test_acc) + \"% |  loss for epoch \" + str(i) + \": \" + str(np.mean(train_loss_iter)))\n",
    "    return train_acc_list, test_acc_list, train_loss_list\n",
    "\n",
    "train_acc, test_acc, train_loss = Train(epochs, mini_batch_size)\n",
    "\n",
    "markers = {'train': 'o', 'test': 's'}\n",
    "x = np.arange(len(train_acc))\n",
    "plt.plot(x, train_acc, label='train acc')\n",
    "plt.plot(x, test_acc, label='test acc', linestyle='--')\n",
    "plt.xlabel(\"epochs\")\n",
    "plt.ylabel(\"accuracy\")\n",
    "plt.legend(loc='lower right')\n",
    "plt.show()\n",
    "\n",
    "\n",
    "markers = {'train': 'o'}\n",
    "x = np.arange(len(train_loss))\n",
    "plt.plot(x, train_loss, label='train loss')\n",
    "plt.xlabel(\"epochs\")\n",
    "plt.ylabel(\"Loss\")\n",
    "plt.legend(loc='lower right')\n",
    "plt.show()"
   ],
   "execution_count": 89,
   "outputs": [
    {
     "name": "stdout",
     "output_type": "stream",
     "text": [
      "training of 13 epochs, each epoch will have 1500 iterations\n",
      "train acc: 87.84% |  test acc: 92.62% |  loss for epoch 0: 0.4506585094134013\n",
      "train acc: 93.28% |  test acc: 94.33% |  loss for epoch 1: 0.23655528170863788\n",
      "train acc: 94.82% |  test acc: 95.43% |  loss for epoch 2: 0.17984816825389863\n",
      "train acc: 95.82% |  test acc: 96.11% |  loss for epoch 3: 0.14499794211176534\n",
      "train acc: 96.48% |  test acc: 96.45% |  loss for epoch 4: 0.12277876212261617\n",
      "train acc: 96.98% |  test acc: 96.77% |  loss for epoch 5: 0.10618984870240092\n",
      "train acc: 97.32% |  test acc: 97.04% |  loss for epoch 6: 0.09332700552015255\n",
      "train acc: 97.60% |  test acc: 97.16% |  loss for epoch 7: 0.08327942554683734\n",
      "train acc: 97.81% |  test acc: 97.37% |  loss for epoch 8: 0.07489539193579306\n",
      "train acc: 98.03% |  test acc: 97.58% |  loss for epoch 9: 0.06820035172284891\n",
      "train acc: 98.23% |  test acc: 97.49% |  loss for epoch 10: 0.06218709163926542\n",
      "train acc: 98.35% |  test acc: 97.52% |  loss for epoch 11: 0.05691756567110618\n",
      "train acc: 98.49% |  test acc: 97.58% |  loss for epoch 12: 0.05261209438539421\n"
     ]
    },
    {
     "data": {
      "text/plain": "<Figure size 432x288 with 1 Axes>",
      "image/png": "[encoded data removed]"
     },
     "metadata": {
      "needs_background": "light"
     },
     "output_type": "display_data"
    },
    {
     "data": {
      "text/plain": "<Figure size 432x288 with 1 Axes>",
      "image/png": "[encoded data removed]"
     },
     "metadata": {
      "needs_background": "light"
     },
     "output_type": "display_data"
    }
   ]
  }
 ]
}